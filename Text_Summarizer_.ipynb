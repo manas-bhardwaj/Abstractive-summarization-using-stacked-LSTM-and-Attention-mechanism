{
  "nbformat": 4,
  "nbformat_minor": 0,
  "metadata": {
    "colab": {
      "name": "Text_Summarizer .ipynb",
      "provenance": [],
      "collapsed_sections": []
    },
    "kernelspec": {
      "name": "python3",
      "display_name": "Python 3"
    },
    "language_info": {
      "name": "python"
    }
  },
  "cells": [
    {
      "cell_type": "code",
      "metadata": {
        "id": "-_DqfpVeb6WS"
      },
      "source": [
        "import numpy as np\n",
        "import pandas as pd\n",
        "from warnings import filterwarnings\n",
        "filterwarnings('ignore')"
      ],
      "execution_count": null,
      "outputs": []
    },
    {
      "cell_type": "code",
      "metadata": {
        "colab": {
          "base_uri": "https://localhost:8080/"
        },
        "id": "J-gVUXkndm-s",
        "outputId": "94b4a791-5b93-487c-bfca-c3bc03c18005"
      },
      "source": [
        "from google.colab import drive\n",
        "drive.mount('/content/drive')"
      ],
      "execution_count": null,
      "outputs": [
        {
          "output_type": "stream",
          "name": "stdout",
          "text": [
            "Drive already mounted at /content/drive; to attempt to forcibly remount, call drive.mount(\"/content/drive\", force_remount=True).\n"
          ]
        }
      ]
    },
    {
      "cell_type": "code",
      "metadata": {
        "id": "C2jY9YHDm3WK"
      },
      "source": [
        "data = pd.read_csv(\"/content/drive/My Drive/NLP Project/Reviews.csv\", nrows=50000)"
      ],
      "execution_count": null,
      "outputs": []
    },
    {
      "cell_type": "code",
      "metadata": {
        "colab": {
          "base_uri": "https://localhost:8080/",
          "height": 206
        },
        "id": "YozOxnkpqTst",
        "outputId": "9fb0a996-6550-484f-edbe-52eba3330c2f"
      },
      "source": [
        "data.head()"
      ],
      "execution_count": null,
      "outputs": [
        {
          "output_type": "execute_result",
          "data": {
            "text/html": [
              "<div>\n",
              "<style scoped>\n",
              "    .dataframe tbody tr th:only-of-type {\n",
              "        vertical-align: middle;\n",
              "    }\n",
              "\n",
              "    .dataframe tbody tr th {\n",
              "        vertical-align: top;\n",
              "    }\n",
              "\n",
              "    .dataframe thead th {\n",
              "        text-align: right;\n",
              "    }\n",
              "</style>\n",
              "<table border=\"1\" class=\"dataframe\">\n",
              "  <thead>\n",
              "    <tr style=\"text-align: right;\">\n",
              "      <th></th>\n",
              "      <th>Id</th>\n",
              "      <th>ProductId</th>\n",
              "      <th>UserId</th>\n",
              "      <th>ProfileName</th>\n",
              "      <th>HelpfulnessNumerator</th>\n",
              "      <th>HelpfulnessDenominator</th>\n",
              "      <th>Score</th>\n",
              "      <th>Time</th>\n",
              "      <th>Summary</th>\n",
              "      <th>Text</th>\n",
              "    </tr>\n",
              "  </thead>\n",
              "  <tbody>\n",
              "    <tr>\n",
              "      <th>0</th>\n",
              "      <td>1</td>\n",
              "      <td>B001E4KFG0</td>\n",
              "      <td>A3SGXH7AUHU8GW</td>\n",
              "      <td>delmartian</td>\n",
              "      <td>1</td>\n",
              "      <td>1</td>\n",
              "      <td>5</td>\n",
              "      <td>1303862400</td>\n",
              "      <td>Good Quality Dog Food</td>\n",
              "      <td>I have bought several of the Vitality canned d...</td>\n",
              "    </tr>\n",
              "    <tr>\n",
              "      <th>1</th>\n",
              "      <td>2</td>\n",
              "      <td>B00813GRG4</td>\n",
              "      <td>A1D87F6ZCVE5NK</td>\n",
              "      <td>dll pa</td>\n",
              "      <td>0</td>\n",
              "      <td>0</td>\n",
              "      <td>1</td>\n",
              "      <td>1346976000</td>\n",
              "      <td>Not as Advertised</td>\n",
              "      <td>Product arrived labeled as Jumbo Salted Peanut...</td>\n",
              "    </tr>\n",
              "    <tr>\n",
              "      <th>2</th>\n",
              "      <td>3</td>\n",
              "      <td>B000LQOCH0</td>\n",
              "      <td>ABXLMWJIXXAIN</td>\n",
              "      <td>Natalia Corres \"Natalia Corres\"</td>\n",
              "      <td>1</td>\n",
              "      <td>1</td>\n",
              "      <td>4</td>\n",
              "      <td>1219017600</td>\n",
              "      <td>\"Delight\" says it all</td>\n",
              "      <td>This is a confection that has been around a fe...</td>\n",
              "    </tr>\n",
              "    <tr>\n",
              "      <th>3</th>\n",
              "      <td>4</td>\n",
              "      <td>B000UA0QIQ</td>\n",
              "      <td>A395BORC6FGVXV</td>\n",
              "      <td>Karl</td>\n",
              "      <td>3</td>\n",
              "      <td>3</td>\n",
              "      <td>2</td>\n",
              "      <td>1307923200</td>\n",
              "      <td>Cough Medicine</td>\n",
              "      <td>If you are looking for the secret ingredient i...</td>\n",
              "    </tr>\n",
              "    <tr>\n",
              "      <th>4</th>\n",
              "      <td>5</td>\n",
              "      <td>B006K2ZZ7K</td>\n",
              "      <td>A1UQRSCLF8GW1T</td>\n",
              "      <td>Michael D. Bigham \"M. Wassir\"</td>\n",
              "      <td>0</td>\n",
              "      <td>0</td>\n",
              "      <td>5</td>\n",
              "      <td>1350777600</td>\n",
              "      <td>Great taffy</td>\n",
              "      <td>Great taffy at a great price.  There was a wid...</td>\n",
              "    </tr>\n",
              "  </tbody>\n",
              "</table>\n",
              "</div>"
            ],
            "text/plain": [
              "   Id  ...                                               Text\n",
              "0   1  ...  I have bought several of the Vitality canned d...\n",
              "1   2  ...  Product arrived labeled as Jumbo Salted Peanut...\n",
              "2   3  ...  This is a confection that has been around a fe...\n",
              "3   4  ...  If you are looking for the secret ingredient i...\n",
              "4   5  ...  Great taffy at a great price.  There was a wid...\n",
              "\n",
              "[5 rows x 10 columns]"
            ]
          },
          "metadata": {},
          "execution_count": 4
        }
      ]
    },
    {
      "cell_type": "code",
      "metadata": {
        "colab": {
          "base_uri": "https://localhost:8080/"
        },
        "id": "t1jJKpGkq-sq",
        "outputId": "cd77f075-2151-4f79-fc35-6abb2ba4855e"
      },
      "source": [
        "data.shape"
      ],
      "execution_count": null,
      "outputs": [
        {
          "output_type": "execute_result",
          "data": {
            "text/plain": [
              "(50000, 10)"
            ]
          },
          "metadata": {},
          "execution_count": 5
        }
      ]
    },
    {
      "cell_type": "code",
      "metadata": {
        "colab": {
          "base_uri": "https://localhost:8080/"
        },
        "id": "b495zw_BrCdz",
        "outputId": "8a208c5e-fbfd-4479-c199-047440d8ead8"
      },
      "source": [
        "data.columns"
      ],
      "execution_count": null,
      "outputs": [
        {
          "output_type": "execute_result",
          "data": {
            "text/plain": [
              "Index(['Id', 'ProductId', 'UserId', 'ProfileName', 'HelpfulnessNumerator',\n",
              "       'HelpfulnessDenominator', 'Score', 'Time', 'Summary', 'Text'],\n",
              "      dtype='object')"
            ]
          },
          "metadata": {},
          "execution_count": 6
        }
      ]
    },
    {
      "cell_type": "code",
      "metadata": {
        "colab": {
          "base_uri": "https://localhost:8080/"
        },
        "id": "_0RDnY4OrFo0",
        "outputId": "bd5be8d8-857c-4520-c6d8-84b650cb2cbe"
      },
      "source": [
        "data.isnull().sum()"
      ],
      "execution_count": null,
      "outputs": [
        {
          "output_type": "execute_result",
          "data": {
            "text/plain": [
              "Id                        0\n",
              "ProductId                 0\n",
              "UserId                    0\n",
              "ProfileName               3\n",
              "HelpfulnessNumerator      0\n",
              "HelpfulnessDenominator    0\n",
              "Score                     0\n",
              "Time                      0\n",
              "Summary                   2\n",
              "Text                      0\n",
              "dtype: int64"
            ]
          },
          "metadata": {},
          "execution_count": 7
        }
      ]
    },
    {
      "cell_type": "code",
      "metadata": {
        "colab": {
          "base_uri": "https://localhost:8080/"
        },
        "id": "Kv72J3HtrXnO",
        "outputId": "7704da86-859a-4d07-fdc7-06ab65ab9ce3"
      },
      "source": [
        "data.info()"
      ],
      "execution_count": null,
      "outputs": [
        {
          "output_type": "stream",
          "name": "stdout",
          "text": [
            "<class 'pandas.core.frame.DataFrame'>\n",
            "RangeIndex: 50000 entries, 0 to 49999\n",
            "Data columns (total 10 columns):\n",
            " #   Column                  Non-Null Count  Dtype \n",
            "---  ------                  --------------  ----- \n",
            " 0   Id                      50000 non-null  int64 \n",
            " 1   ProductId               50000 non-null  object\n",
            " 2   UserId                  50000 non-null  object\n",
            " 3   ProfileName             49997 non-null  object\n",
            " 4   HelpfulnessNumerator    50000 non-null  int64 \n",
            " 5   HelpfulnessDenominator  50000 non-null  int64 \n",
            " 6   Score                   50000 non-null  int64 \n",
            " 7   Time                    50000 non-null  int64 \n",
            " 8   Summary                 49998 non-null  object\n",
            " 9   Text                    50000 non-null  object\n",
            "dtypes: int64(5), object(5)\n",
            "memory usage: 3.8+ MB\n"
          ]
        }
      ]
    },
    {
      "cell_type": "code",
      "metadata": {
        "id": "gBo_SdS9rbe6"
      },
      "source": [
        "df = data.drop(['Id', 'ProductId', 'UserId', 'ProfileName', 'HelpfulnessNumerator', 'HelpfulnessDenominator', 'Score', 'Time'], axis = 1)\n",
        "df.rename(columns={'Text': 'Review'}, inplace = True)"
      ],
      "execution_count": null,
      "outputs": []
    },
    {
      "cell_type": "code",
      "metadata": {
        "id": "rOIaLYbJt4Kj"
      },
      "source": [
        "column_titles = [\"Review\", \"Summary\"]\n",
        "df = df.reindex(columns = column_titles)"
      ],
      "execution_count": null,
      "outputs": []
    },
    {
      "cell_type": "code",
      "metadata": {
        "id": "pXcNO7f6t52V"
      },
      "source": [
        "df.drop_duplicates(subset = ['Review'], inplace = True) \n",
        "df.dropna(axis = 0, inplace = True) "
      ],
      "execution_count": null,
      "outputs": []
    },
    {
      "cell_type": "code",
      "metadata": {
        "colab": {
          "base_uri": "https://localhost:8080/",
          "height": 206
        },
        "id": "4ouRNIy2sELD",
        "outputId": "23e78cd7-07dc-4176-e9c4-dedfe267a647"
      },
      "source": [
        "df.head()"
      ],
      "execution_count": null,
      "outputs": [
        {
          "output_type": "execute_result",
          "data": {
            "text/html": [
              "<div>\n",
              "<style scoped>\n",
              "    .dataframe tbody tr th:only-of-type {\n",
              "        vertical-align: middle;\n",
              "    }\n",
              "\n",
              "    .dataframe tbody tr th {\n",
              "        vertical-align: top;\n",
              "    }\n",
              "\n",
              "    .dataframe thead th {\n",
              "        text-align: right;\n",
              "    }\n",
              "</style>\n",
              "<table border=\"1\" class=\"dataframe\">\n",
              "  <thead>\n",
              "    <tr style=\"text-align: right;\">\n",
              "      <th></th>\n",
              "      <th>Review</th>\n",
              "      <th>Summary</th>\n",
              "    </tr>\n",
              "  </thead>\n",
              "  <tbody>\n",
              "    <tr>\n",
              "      <th>0</th>\n",
              "      <td>I have bought several of the Vitality canned d...</td>\n",
              "      <td>Good Quality Dog Food</td>\n",
              "    </tr>\n",
              "    <tr>\n",
              "      <th>1</th>\n",
              "      <td>Product arrived labeled as Jumbo Salted Peanut...</td>\n",
              "      <td>Not as Advertised</td>\n",
              "    </tr>\n",
              "    <tr>\n",
              "      <th>2</th>\n",
              "      <td>This is a confection that has been around a fe...</td>\n",
              "      <td>\"Delight\" says it all</td>\n",
              "    </tr>\n",
              "    <tr>\n",
              "      <th>3</th>\n",
              "      <td>If you are looking for the secret ingredient i...</td>\n",
              "      <td>Cough Medicine</td>\n",
              "    </tr>\n",
              "    <tr>\n",
              "      <th>4</th>\n",
              "      <td>Great taffy at a great price.  There was a wid...</td>\n",
              "      <td>Great taffy</td>\n",
              "    </tr>\n",
              "  </tbody>\n",
              "</table>\n",
              "</div>"
            ],
            "text/plain": [
              "                                              Review                Summary\n",
              "0  I have bought several of the Vitality canned d...  Good Quality Dog Food\n",
              "1  Product arrived labeled as Jumbo Salted Peanut...      Not as Advertised\n",
              "2  This is a confection that has been around a fe...  \"Delight\" says it all\n",
              "3  If you are looking for the secret ingredient i...         Cough Medicine\n",
              "4  Great taffy at a great price.  There was a wid...            Great taffy"
            ]
          },
          "metadata": {},
          "execution_count": 12
        }
      ]
    },
    {
      "cell_type": "code",
      "metadata": {
        "colab": {
          "base_uri": "https://localhost:8080/"
        },
        "id": "kKybRAFtulyi",
        "outputId": "a90d7de4-2448-423a-ecac-88474eea9546"
      },
      "source": [
        "import nltk\n",
        "from nltk.corpus import stopwords\n",
        "nltk.download('stopwords')\n",
        "stop_words = stopwords.words('english') "
      ],
      "execution_count": null,
      "outputs": [
        {
          "output_type": "stream",
          "name": "stdout",
          "text": [
            "[nltk_data] Downloading package stopwords to /root/nltk_data...\n",
            "[nltk_data]   Package stopwords is already up-to-date!\n"
          ]
        }
      ]
    },
    {
      "cell_type": "code",
      "metadata": {
        "id": "-mWf_aokqzgB"
      },
      "source": [
        "contraction_map = {\n",
        " \"ain't\": \"is not\", \n",
        " \"aren't\": \"are not\",\n",
        " \"can't\": \"cannot\", \n",
        " \"'cause\": \"because\",\n",
        " \"could've\": \"could have\",\n",
        " \"couldn't\": \"could not\",\n",
        " \"didn't\": \"did not\",  \n",
        " \"doesn't\": \"does not\", \n",
        " \"don't\": \"do not\", \n",
        " \"hadn't\": \"had not\", \n",
        " \"hasn't\": \"has not\", \n",
        " \"haven't\": \"have not\",\n",
        " \"he'd\": \"he would\",\n",
        " \"he'll\": \"he will\", \n",
        " \"he's\": \"he is\", \n",
        " \"how'd\": \"how did\", \n",
        " \"how'd'y\": \"how do you\",\n",
        " \"how'll\": \"how will\", \n",
        " \"how's\": \"how is\",                         \n",
        " \"I'd\": \"I would\", \n",
        " \"I'd've\": \"I would have\", \n",
        " \"I'll\": \"I will\", \n",
        " \"I'll've\": \"I will have\",\n",
        " \"I'm\": \"I am\", \n",
        " \"I've\": \"I have\", \n",
        " \"i'd\": \"i would\",\n",
        " \"i'd've\": \"i would have\", \n",
        " \"i'll\": \"i will\", \n",
        " \"i'll've\": \"i will have\",\n",
        " \"i'm\": \"i am\", \n",
        " \"i've\": \"i have\", \n",
        " \"isn't\": \"is not\", \n",
        " \"it'd\": \"it would\",\n",
        " \"it'd've\": \"it would have\", \n",
        " \"it'll\": \"it will\", \n",
        " \"it'll've\": \"it will have\",\n",
        " \"it's\": \"it is\", \n",
        " \"let's\": \"let us\", \n",
        " \"ma'am\": \"madam\",\n",
        " \"mayn't\": \"may not\", \n",
        " \"might've\": \"might have\",\n",
        " \"mightn't\": \"might not\",\n",
        " \"mightn't've\": \"might not have\", \n",
        " \"must've\": \"must have\",\n",
        " \"mustn't\": \"must not\", \n",
        " \"mustn't've\": \"must not have\", \n",
        " \"needn't\": \"need not\", \n",
        " \"needn't've\": \"need not have\",\n",
        " \"o'clock\": \"of the clock\",\n",
        " \"oughtn't\": \"ought not\", \n",
        " \"oughtn't've\": \"ought not have\", \n",
        " \"shan't\": \"shall not\", \n",
        " \"sha'n't\": \"shall not\", \n",
        " \"shan't've\": \"shall not have\",\n",
        " \"she'd\": \"she would\", \n",
        " \"she'd've\": \"she would have\", \n",
        " \"she'll\": \"she will\", \n",
        " \"she'll've\": \"she will have\", \n",
        " \"she's\": \"she is\",\n",
        " \"should've\": \"should have\", \n",
        " \"shouldn't\": \"should not\", \n",
        " \"shouldn't've\": \"should not have\", \n",
        " \"so've\": \"so have\",\n",
        " \"so's\": \"so as\",\n",
        " \"this's\": \"this is\",\n",
        " \"that'd\": \"that would\", \n",
        " \"that'd've\": \"that would have\", \n",
        " \"that's\": \"that is\", \n",
        " \"there'd\": \"there would\",\n",
        " \"there'd've\": \"there would have\", \n",
        " \"there's\": \"there is\", \n",
        " \"here's\": \"here is\",\n",
        " \"they'd\": \"they would\", \n",
        " \"they'd've\": \"they would have\",\n",
        " \"they'll\": \"they will\", \n",
        " \"they'll've\": \"they will have\", \n",
        " \"they're\": \"they are\", \n",
        " \"they've\": \"they have\", \n",
        " \"to've\": \"to have\",\n",
        " \"wasn't\": \"was not\", \n",
        " \"we'd\": \"we would\", \n",
        " \"we'd've\": \"we would have\", \n",
        " \"we'll\": \"we will\", \n",
        " \"we'll've\": \"we will have\", \n",
        " \"we're\": \"we are\", \n",
        " \"we've\": \"we have\", \n",
        " \"weren't\": \"were not\", \n",
        " \"what'll\": \"what will\", \n",
        " \"what'll've\": \"what will have\", \n",
        " \"what're\": \"what are\",\n",
        " \"what's\": \"what is\", \n",
        " \"what've\": \"what have\", \n",
        " \"when's\": \"when is\",\n",
        " \"when've\": \"when have\", \n",
        " \"where'd\": \"where did\", \n",
        " \"where's\": \"where is\",\n",
        " \"where've\": \"where have\", \n",
        " \"who'll\": \"who will\", \n",
        " \"who'll've\": \"who will have\", \n",
        " \"who's\": \"who is\", \n",
        " \"who've\": \"who have\",\n",
        " \"why's\": \"why is\", \n",
        " \"why've\": \"why have\", \n",
        " \"will've\": \"will have\", \n",
        " \"won't\": \"will not\", \n",
        " \"won't've\": \"will not have\",\n",
        " \"would've\": \"would have\", \n",
        " \"wouldn't\": \"would not\", \n",
        " \"wouldn't've\": \"would not have\", \n",
        " \"y'all\": \"you all\",\n",
        " \"y'all'd\": \"you all would\",\n",
        " \"y'all'd've\": \"you all would have\",\n",
        " \"y'all're\": \"you all are\",\n",
        " \"y'all've\": \"you all have\",\n",
        " \"you'd\": \"you would\", \n",
        " \"you'd've\": \"you would have\", \n",
        " \"you'll\": \"you will\", \n",
        " \"you'll've\": \"you will have\",\n",
        " \"you're\": \"you are\", \n",
        " \"you've\": \"you have\" }"
      ],
      "execution_count": null,
      "outputs": []
    },
    {
      "cell_type": "code",
      "metadata": {
        "id": "PDx79k2d02VU"
      },
      "source": [
        "import re\n",
        "from bs4 import BeautifulSoup\n",
        "\n",
        "def make_lowercase(text):\n",
        "  return text.lower()\n",
        "\n",
        "def remove_HTML(text):\n",
        "  return BeautifulSoup(text, 'lxml').text\n",
        "\n",
        "def map_contractions(text):\n",
        "  return ' '.join([contraction_map[word] if word in contraction_map else word for word in text.split(\" \")])\n",
        "  \n",
        "def remove_extras(text):\n",
        "  text = re.sub('\"', '', text)\n",
        "  text = re.sub(r\"'s\\b\", \"\", text)\n",
        "  text = re.sub(r'\\([^)]*\\)', '', text)\n",
        "  text = re.sub(\"[^a-zA-Z]\", \" \", text)\n",
        "  return text\n",
        "\n",
        "def remove_stopwords(text, type):\n",
        "  if type == 0:\n",
        "    tokens = [word for word in text.split() if not word in stop_words]\n",
        "  else:\n",
        "    tokens = text.split()\n",
        "  return tokens\n",
        "\n",
        "def remove_shortwords(tokens):\n",
        "  long_words = []\n",
        "  for token in tokens:\n",
        "    if len(token) > 1:\n",
        "      long_words.append(token)\n",
        "  return (\" \".join(long_words)).strip()"
      ],
      "execution_count": null,
      "outputs": []
    },
    {
      "cell_type": "code",
      "metadata": {
        "id": "L8ZodJyAv41C"
      },
      "source": [
        "processed_reviews = []\n",
        "processed_summaries = []\n",
        "\n",
        "for review, summary in zip(df['Review'], df['Summary']):\n",
        "  review, summary = make_lowercase(review), make_lowercase(summary)\n",
        "  review, summary = remove_HTML(review), remove_HTML(summary)\n",
        "  review, summary = map_contractions(review), map_contractions(summary)\n",
        "  review, summary = remove_extras(review), remove_extras(summary)\n",
        "  review, summary = remove_stopwords(review, 0), remove_stopwords(summary, 1)\n",
        "  review, summary = remove_shortwords(review), remove_shortwords(summary)\n",
        "  processed_reviews.append(review)\n",
        "  processed_summaries.append(summary)"
      ],
      "execution_count": null,
      "outputs": []
    },
    {
      "cell_type": "code",
      "metadata": {
        "colab": {
          "base_uri": "https://localhost:8080/"
        },
        "id": "iayjM8xtwcHm",
        "outputId": "6d0a6712-7685-4361-b630-8b7c8c953c34"
      },
      "source": [
        "processed_reviews[:10]"
      ],
      "execution_count": null,
      "outputs": [
        {
          "output_type": "execute_result",
          "data": {
            "text/plain": [
              "['bought several vitality canned dog food products found good quality product looks like stew processed meat smells better labrador finicky appreciates product better',\n",
              " 'product arrived labeled jumbo salted peanuts peanuts actually small sized unsalted sure error vendor intended represent product jumbo',\n",
              " 'confection around centuries light pillowy citrus gelatin nuts case filberts cut tiny squares liberally coated powdered sugar tiny mouthful heaven chewy flavorful highly recommend yummy treat familiar story lewis lion witch wardrobe treat seduces edmund selling brother sisters witch',\n",
              " 'looking secret ingredient robitussin believe found got addition root beer extract ordered made cherry soda flavor medicinal',\n",
              " 'great taffy great price wide assortment yummy taffy delivery quick taffy lover deal',\n",
              " 'got wild hair taffy ordered five pound bag taffy enjoyable many flavors watermelon root beer melon peppermint grape etc complaint bit much red black licorice flavored pieces kids husband lasted two weeks would recommend brand taffy delightful treat',\n",
              " 'saltwater taffy great flavors soft chewy candy individually wrapped well none candies stuck together happen expensive version fralinger would highly recommend candy served beach themed party everyone loved',\n",
              " 'taffy good soft chewy flavors amazing would definitely recommend buying satisfying',\n",
              " 'right mostly sprouting cats eat grass love rotate around wheatgrass rye',\n",
              " 'healthy dog food good digestion also good small puppies dog eats required amount every feeding']"
            ]
          },
          "metadata": {},
          "execution_count": 17
        }
      ]
    },
    {
      "cell_type": "code",
      "metadata": {
        "colab": {
          "base_uri": "https://localhost:8080/"
        },
        "id": "SD4u9K_QwguK",
        "outputId": "199713cb-86b5-4833-d126-af7a3e3fc265"
      },
      "source": [
        "processed_summaries[:10]"
      ],
      "execution_count": null,
      "outputs": [
        {
          "output_type": "execute_result",
          "data": {
            "text/plain": [
              "['good quality dog food',\n",
              " 'not as advertised',\n",
              " 'delight says it all',\n",
              " 'cough medicine',\n",
              " 'great taffy',\n",
              " 'nice taffy',\n",
              " 'great just as good as the expensive brands',\n",
              " 'wonderful tasty taffy',\n",
              " 'yay barley',\n",
              " 'healthy dog food']"
            ]
          },
          "metadata": {},
          "execution_count": 18
        }
      ]
    },
    {
      "cell_type": "code",
      "metadata": {
        "id": "IKVhwxIDwqXL"
      },
      "source": [
        "df['Review'] = processed_reviews\n",
        "df['Summary'] = processed_summaries"
      ],
      "execution_count": null,
      "outputs": []
    },
    {
      "cell_type": "code",
      "metadata": {
        "id": "9lCdRyR4w2pB"
      },
      "source": [
        "df.replace('', np.nan, inplace = True)\n",
        "df.dropna(axis = 0, inplace = True)"
      ],
      "execution_count": null,
      "outputs": []
    },
    {
      "cell_type": "code",
      "metadata": {
        "id": "A6zpRyV0w-hV"
      },
      "source": [
        "review_length = []\n",
        "summary_length = []\n",
        "\n",
        "for review, summary in zip(df['Review'], df['Summary']):\n",
        "  review_length.append(len(review.split()))\n",
        "  summary_length.append(len(summary.split()))"
      ],
      "execution_count": null,
      "outputs": []
    },
    {
      "cell_type": "code",
      "metadata": {
        "colab": {
          "base_uri": "https://localhost:8080/",
          "height": 466
        },
        "id": "Bil83nrVxivv",
        "outputId": "c7fc8ab4-ca2e-4742-8584-a2c2cbca55a2"
      },
      "source": [
        "import matplotlib.pyplot as plt\n",
        "\n",
        "plt.figure(figsize = (18, 7))\n",
        "plt.subplot(1, 2, 1)\n",
        "plt.title('Reviews', fontsize = 18)\n",
        "plt.xlabel('No. of Words', fontsize = 14)\n",
        "plt.ylabel('No. of Reviews', fontsize = 14)\n",
        "plt.hist(review_length, bins = 30)\n",
        "\n",
        "plt.subplot(1, 2, 2)\n",
        "plt.title('Summaries', fontsize = 18)\n",
        "plt.xlabel('No. of Words', fontsize = 14)\n",
        "plt.ylabel('No. of Summaries', fontsize = 14)\n",
        "plt.hist(summary_length, bins = 30)\n",
        "plt.show()"
      ],
      "execution_count": null,
      "outputs": [
        {
          "output_type": "display_data",
          "data": {
            "image/png": "[encoded data removed]",
            "text/plain": [
              "<Figure size 1296x504 with 2 Axes>"
            ]
          },
          "metadata": {
            "needs_background": "light"
          }
        }
      ]
    },
    {
      "cell_type": "code",
      "metadata": {
        "colab": {
          "base_uri": "https://localhost:8080/"
        },
        "id": "eOMW5Ljwx_0P",
        "outputId": "20a106b1-ee91-470f-a271-32c7003beb34"
      },
      "source": [
        "review_count = 0\n",
        "summary_count = 0\n",
        "\n",
        "for review, summary in zip(df['Review'], df['Summary']):\n",
        "  if len(review.split()) <= 50:\n",
        "    review_count = review_count + 1\n",
        "  if len(summary.split()) <= 8:\n",
        "    summary_count = summary_count + 1\n",
        "\n",
        "print(\"% of reviews having less than 80 words: \", (review_count / len(df['Review'])) * 100)\n",
        "print(\"% of summaries having less than 8 words: \", (summary_count / len(df['Summary'])) * 100)"
      ],
      "execution_count": null,
      "outputs": [
        {
          "output_type": "stream",
          "name": "stdout",
          "text": [
            "% of reviews having less than 80 words:  78.38364167478092\n",
            "% of summaries having less than 8 words:  94.38926755382452\n"
          ]
        }
      ]
    },
    {
      "cell_type": "code",
      "metadata": {
        "id": "_qCJlbgIzUm8"
      },
      "source": [
        "max_review_length = 50\n",
        "max_summary_length = 8"
      ],
      "execution_count": null,
      "outputs": []
    },
    {
      "cell_type": "code",
      "metadata": {
        "id": "zGh2BnZlyWqc"
      },
      "source": [
        "reviews = np.array(df['Review'])\n",
        "summaries = np.array(df['Summary'])\n",
        "\n",
        "short_reviews = []\n",
        "short_summaries = []\n",
        "\n",
        "for index in range(len(reviews)):\n",
        "  if len(reviews[index].split()) <= max_review_length and len(summaries[index].split()) <= max_summary_length:\n",
        "    short_reviews.append(reviews[index])\n",
        "    short_summaries.append(summaries[index])"
      ],
      "execution_count": null,
      "outputs": []
    },
    {
      "cell_type": "code",
      "metadata": {
        "id": "Oy1rgz5v0b57"
      },
      "source": [
        "df = pd.DataFrame({'Review': short_reviews, 'Summary': short_summaries})\n",
        "df['Summary'] = df['Summary'].apply(lambda summary: 'sumstart ' + summary + ' sumend')"
      ],
      "execution_count": null,
      "outputs": []
    },
    {
      "cell_type": "code",
      "metadata": {
        "id": "a7DGXkqY03qH"
      },
      "source": [
        "from sklearn.model_selection import train_test_split\n",
        "X_train, X_test, y_train, y_test = train_test_split(np.array(df['Review']), np.array(df['Summary']), test_size = 0.1, random_state = 10, shuffle = True)"
      ],
      "execution_count": null,
      "outputs": []
    },
    {
      "cell_type": "code",
      "metadata": {
        "id": "ZXEiycSj2Uwk"
      },
      "source": [
        "from keras_preprocessing.text import Tokenizer\n",
        "from keras_preprocessing.sequence import pad_sequences\n",
        "\n",
        "X_tokenizer = Tokenizer()\n",
        "X_tokenizer.fit_on_texts(list(X_train))"
      ],
      "execution_count": null,
      "outputs": []
    },
    {
      "cell_type": "code",
      "metadata": {
        "id": "VWjhLkcg2pFe"
      },
      "source": [
        "review_rare_threshold = 4\n",
        "\n",
        "review_rare_words = 0\n",
        "review_total_words = 0\n",
        "review_rare_frequency = 0\n",
        "review_total_frequency = 0\n",
        "\n",
        "for frequency in X_tokenizer.word_counts.values():\n",
        "  review_total_words = review_total_words + 1\n",
        "  review_total_frequency = review_total_frequency + frequency\n",
        "  if (frequency < review_rare_threshold):\n",
        "    review_rare_words = review_rare_words + 1\n",
        "    review_rare_frequency = review_rare_frequency + frequency"
      ],
      "execution_count": null,
      "outputs": []
    },
    {
      "cell_type": "code",
      "metadata": {
        "colab": {
          "base_uri": "https://localhost:8080/"
        },
        "id": "sX45zqZc31Tc",
        "outputId": "9b8bace3-350d-4a02-b513-d363f228c173"
      },
      "source": [
        "print(\"% of rare words in vocabulary:\", (review_rare_words/review_total_words) * 100)\n",
        "print(\"Total coverage of rare words:\", (review_rare_frequency/review_total_frequency) * 100)"
      ],
      "execution_count": null,
      "outputs": [
        {
          "output_type": "stream",
          "name": "stdout",
          "text": [
            "% of rare words in vocabulary: 64.57857841538963\n",
            "Total coverage of rare words: 2.9388367690031343\n"
          ]
        }
      ]
    },
    {
      "cell_type": "code",
      "metadata": {
        "colab": {
          "base_uri": "https://localhost:8080/"
        },
        "id": "3UhBL3Fs4YMJ",
        "outputId": "5535edf3-61f8-4cef-db82-10dbfd149804"
      },
      "source": [
        "review_common_words = review_total_words - review_rare_words\n",
        "\n",
        "X_tokenizer = Tokenizer(num_words = review_common_words)\n",
        "X_tokenizer.fit_on_texts(list(X_train))\n",
        "\n",
        "X_train_sequence = X_tokenizer.texts_to_sequences(X_train)\n",
        "X_test_sequence = X_tokenizer.texts_to_sequences(X_test)\n",
        "\n",
        "X_train = pad_sequences(X_train_sequence, maxlen = max_review_length, padding = 'post')\n",
        "X_test = pad_sequences(X_test_sequence, maxlen = max_review_length, padding = 'post')\n",
        "\n",
        "X_vocabulary_size = X_tokenizer.num_words + 1\n",
        "print(\"Size of Review Vocabulary: \", X_vocabulary_size)"
      ],
      "execution_count": null,
      "outputs": [
        {
          "output_type": "stream",
          "name": "stdout",
          "text": [
            "Size of Review Vocabulary:  8692\n"
          ]
        }
      ]
    },
    {
      "cell_type": "code",
      "metadata": {
        "id": "7-vI0Ig7506M"
      },
      "source": [
        "y_tokenizer = Tokenizer()   \n",
        "y_tokenizer.fit_on_texts(list(y_train))"
      ],
      "execution_count": null,
      "outputs": []
    },
    {
      "cell_type": "code",
      "metadata": {
        "id": "6asM1CTj5_bK"
      },
      "source": [
        "summary_rare_threshold = 6\n",
        "\n",
        "summary_rare_words = 0\n",
        "summary_total_words = 0\n",
        "summary_rare_frequency = 0\n",
        "summary_total_frequency = 0\n",
        "\n",
        "for frequency in y_tokenizer.word_counts.values():\n",
        "  summary_total_words = summary_total_words + 1\n",
        "  summary_total_frequency = summary_total_frequency + frequency\n",
        "  if (frequency < summary_rare_threshold):\n",
        "    summary_rare_words = summary_rare_words + 1\n",
        "    summary_rare_frequency = summary_rare_frequency + frequency"
      ],
      "execution_count": null,
      "outputs": []
    },
    {
      "cell_type": "code",
      "metadata": {
        "colab": {
          "base_uri": "https://localhost:8080/"
        },
        "id": "N8vnd7BO6bVG",
        "outputId": "bb518d82-a901-4527-9ec9-9022b015c113"
      },
      "source": [
        "print(\"% of rare words in vocabulary:\", (summary_rare_words/summary_total_words) * 100)\n",
        "print(\"Total coverage of rare words:\", (summary_rare_frequency/summary_total_frequency) * 100)"
      ],
      "execution_count": null,
      "outputs": [
        {
          "output_type": "stream",
          "name": "stdout",
          "text": [
            "% of rare words in vocabulary: 78.17668931914348\n",
            "Total coverage of rare words: 6.128255377423087\n"
          ]
        }
      ]
    },
    {
      "cell_type": "code",
      "metadata": {
        "colab": {
          "base_uri": "https://localhost:8080/"
        },
        "id": "tCMOayZv6q8f",
        "outputId": "bcc7f730-aae3-4223-9bfc-112ff8676e58"
      },
      "source": [
        "summary_common_words = summary_total_words - summary_rare_words\n",
        "\n",
        "y_tokenizer = Tokenizer(num_words = summary_common_words)\n",
        "y_tokenizer.fit_on_texts(list(y_train))\n",
        "\n",
        "y_train_sequence = y_tokenizer.texts_to_sequences(y_train)\n",
        "y_test_sequence = y_tokenizer.texts_to_sequences(y_test)\n",
        "\n",
        "y_train = pad_sequences(y_train_sequence, maxlen = max_summary_length, padding = 'post')\n",
        "y_test = pad_sequences(y_test_sequence, maxlen = max_summary_length, padding = 'post')\n",
        "\n",
        "y_vocabulary_size = y_tokenizer.num_words + 1\n",
        "print(\"Size of Summary Vocabulary: \", y_vocabulary_size)"
      ],
      "execution_count": null,
      "outputs": [
        {
          "output_type": "stream",
          "name": "stdout",
          "text": [
            "Size of Summary Vocabulary:  1703\n"
          ]
        }
      ]
    },
    {
      "cell_type": "code",
      "metadata": {
        "id": "vZD0KBmw7TMD"
      },
      "source": [
        "empty = []\n",
        "for summary in range(len(y_train)):\n",
        "  token_count = 0\n",
        "  for token in y_train[summary]:\n",
        "    if token != 0:\n",
        "      token_count = token_count + 1\n",
        "  if token_count == 2:\n",
        "    empty.append(summary)"
      ],
      "execution_count": null,
      "outputs": []
    },
    {
      "cell_type": "code",
      "metadata": {
        "colab": {
          "base_uri": "https://localhost:8080/"
        },
        "id": "PmmULh0C8BwC",
        "outputId": "f2dc39aa-657e-40cb-ce7c-a1cac20966a4"
      },
      "source": [
        "X_train = np.delete(X_train, empty, axis = 0)\n",
        "print(X_train)"
      ],
      "execution_count": null,
      "outputs": [
        {
          "output_type": "stream",
          "name": "stdout",
          "text": [
            "[[   1 1467   40 ...    0    0    0]\n",
            " [   3  229  803 ...    0    0    0]\n",
            " [   3   11 1495 ...    0    0    0]\n",
            " ...\n",
            " [ 103 8200   38 ...    0    0    0]\n",
            " [  21  550  230 ...    0    0    0]\n",
            " [ 847   14  286 ...    0    0    0]]\n"
          ]
        }
      ]
    },
    {
      "cell_type": "code",
      "metadata": {
        "colab": {
          "base_uri": "https://localhost:8080/"
        },
        "id": "60qrlzP-8JfF",
        "outputId": "416cafbf-c622-4607-a26d-9f9598e47abb"
      },
      "source": [
        "y_train = np.delete(y_train, empty, axis = 0)\n",
        "print(y_train)"
      ],
      "execution_count": null,
      "outputs": [
        {
          "output_type": "stream",
          "name": "stdout",
          "text": [
            "[[   1 1373    2 ...    0    0    0]\n",
            " [   1  232  490 ...    0    0    0]\n",
            " [   1    3   13 ...    0    0    0]\n",
            " ...\n",
            " [   1   62    3 ...    0    0    0]\n",
            " [   1    5    7 ...    0    0    0]\n",
            " [   5    7  298 ...    5  391    2]]\n"
          ]
        }
      ]
    },
    {
      "cell_type": "code",
      "metadata": {
        "id": "0BDx7mOn8WFU"
      },
      "source": [
        "empty = []\n",
        "for summary in range(len(y_test)):\n",
        "  token_count = 0\n",
        "  for token in y_test[summary]:\n",
        "    if token != 0:\n",
        "      token_count = token_count + 1\n",
        "  if token_count == 2:\n",
        "    empty.append(summary)"
      ],
      "execution_count": null,
      "outputs": []
    },
    {
      "cell_type": "code",
      "metadata": {
        "colab": {
          "base_uri": "https://localhost:8080/"
        },
        "id": "_hE_tJqW8gu4",
        "outputId": "7bd267f8-419a-46cc-97fe-adaaa7d668ff"
      },
      "source": [
        "X_test = np.delete(X_test, empty, axis = 0)\n",
        "print(X_test)"
      ],
      "execution_count": null,
      "outputs": [
        {
          "output_type": "stream",
          "name": "stdout",
          "text": [
            "[[   6   11    9 ...    0    0    0]\n",
            " [3361    9  565 ...    0    0    0]\n",
            " [1326    9   53 ...    0    0    0]\n",
            " ...\n",
            " [1639   89  330 ...    0    0    0]\n",
            " [ 149   94  588 ...    0    0    0]\n",
            " [ 788 2773  120 ...    0    0    0]]\n"
          ]
        }
      ]
    },
    {
      "cell_type": "code",
      "metadata": {
        "colab": {
          "base_uri": "https://localhost:8080/"
        },
        "id": "MGOwZk668oFs",
        "outputId": "ac25913f-a317-4651-89d5-0a1a947d1922"
      },
      "source": [
        "y_test = np.delete(y_test, empty, axis = 0)\n",
        "print(y_test)"
      ],
      "execution_count": null,
      "outputs": [
        {
          "output_type": "stream",
          "name": "stdout",
          "text": [
            "[[   1   82   23 ...  668    2    0]\n",
            " [   1  904 1193 ...    0    0    0]\n",
            " [   1   29  273 ...  361   18    2]\n",
            " ...\n",
            " [   1  141    2 ...    0    0    0]\n",
            " [   1    3   15 ...    0    0    0]\n",
            " [   1   26    2 ...    0    0    0]]\n"
          ]
        }
      ]
    },
    {
      "cell_type": "code",
      "metadata": {
        "id": "CklFuDitDGER"
      },
      "source": [
        "from tensorflow.keras.layers import Input, LSTM, Embedding, Dense, Concatenate, TimeDistributed\n",
        "from tensorflow.keras.models import Model"
      ],
      "execution_count": null,
      "outputs": []
    },
    {
      "cell_type": "code",
      "metadata": {
        "id": "3GZqf6S0mASM",
        "colab": {
          "base_uri": "https://localhost:8080/"
        },
        "outputId": "413b6f96-59e9-4846-8451-df94093722e3"
      },
      "source": [
        "from attention import AttentionLayer\n",
        "from keras import backend as K"
      ],
      "execution_count": null,
      "outputs": [
        {
          "output_type": "stream",
          "name": "stderr",
          "text": [
            "Using TensorFlow backend.\n"
          ]
        }
      ]
    },
    {
      "cell_type": "code",
      "metadata": {
        "colab": {
          "base_uri": "https://localhost:8080/"
        },
        "id": "VhqB0B7_CMJU",
        "outputId": "6a9ff000-ca09-4f55-8f2b-47e2350ccd0e"
      },
      "source": [
        "latent_dimension = 300\n",
        "embedding_dimension = 100\n",
        "\n",
        "encoder_inputs = Input(shape=(max_review_length,))\n",
        "encoder_embed_layer =  Embedding(X_vocabulary_size, embedding_dimension, trainable=True)\n",
        "encoder_embedding = encoder_embed_layer(encoder_inputs)\n",
        "\n",
        "encoder_lstm1 = LSTM(latent_dimension, return_sequences=True, return_state=True, dropout=0.4, recurrent_dropout=0.4)\n",
        "encoder_output1, state_h1, state_c1 = encoder_lstm1(encoder_embedding)\n",
        "\n",
        "encoder_lstm2 = LSTM(latent_dimension, return_sequences=True, return_state=True, dropout=0.4, recurrent_dropout=0.4)\n",
        "encoder_output2, state_h2, state_c2 = encoder_lstm2(encoder_output1)\n",
        "\n",
        "encoder_lstm3 = LSTM(latent_dimension, return_sequences=True, return_state=True, dropout=0.4, recurrent_dropout=0.4)\n",
        "encoder_outputs, state_h, state_c= encoder_lstm3(encoder_output2)\n",
        "\n",
        "decoder_inputs = Input(shape=(None,))\n",
        "decoder_embed_layer = Embedding(y_vocabulary_size, embedding_dimension, trainable=True)\n",
        "decoder_embedding = decoder_embed_layer(decoder_inputs)\n",
        "\n",
        "decoder_lstm = LSTM(latent_dimension, return_sequences=True, return_state=True, dropout=0.4, recurrent_dropout=0.2)\n",
        "decoder_outputs, decoder_fwd_state, decoder_back_state = decoder_lstm(decoder_embedding, initial_state=[state_h, state_c])\n",
        "\n",
        "attn_layer = AttentionLayer(name='attention_layer')\n",
        "attn_out, attn_states = attn_layer([encoder_outputs, decoder_outputs])\n",
        "\n",
        "decoder_concat_input = Concatenate(axis=-1, name='concat_layer')([decoder_outputs, attn_out])\n",
        "decoder_dense =  TimeDistributed(Dense(y_vocabulary_size, activation='softmax'))\n",
        "decoder_outputs = decoder_dense(decoder_concat_input)\n",
        "\n",
        "model = Model([encoder_inputs, decoder_inputs], decoder_outputs)\n",
        "model.summary() "
      ],
      "execution_count": null,
      "outputs": [
        {
          "output_type": "stream",
          "name": "stdout",
          "text": [
            "WARNING:tensorflow:From /usr/local/lib/python3.7/dist-packages/tensorflow_core/python/keras/initializers.py:119: calling RandomUniform.__init__ (from tensorflow.python.ops.init_ops) with dtype is deprecated and will be removed in a future version.\n",
            "Instructions for updating:\n",
            "Call initializer instance with the dtype argument instead of passing it to the constructor\n",
            "WARNING:tensorflow:From /usr/local/lib/python3.7/dist-packages/tensorflow_core/python/ops/resource_variable_ops.py:1630: calling BaseResourceVariable.__init__ (from tensorflow.python.ops.resource_variable_ops) with constraint is deprecated and will be removed in a future version.\n",
            "Instructions for updating:\n",
            "If using Keras pass *_constraint arguments to layers.\n",
            "Model: \"model\"\n",
            "__________________________________________________________________________________________________\n",
            "Layer (type)                    Output Shape         Param #     Connected to                     \n",
            "==================================================================================================\n",
            "input_1 (InputLayer)            [(None, 50)]         0                                            \n",
            "__________________________________________________________________________________________________\n",
            "embedding (Embedding)           (None, 50, 100)      869200      input_1[0][0]                    \n",
            "__________________________________________________________________________________________________\n",
            "lstm (LSTM)                     [(None, 50, 300), (N 481200      embedding[0][0]                  \n",
            "__________________________________________________________________________________________________\n",
            "input_2 (InputLayer)            [(None, None)]       0                                            \n",
            "__________________________________________________________________________________________________\n",
            "lstm_1 (LSTM)                   [(None, 50, 300), (N 721200      lstm[0][0]                       \n",
            "__________________________________________________________________________________________________\n",
            "embedding_1 (Embedding)         (None, None, 100)    170300      input_2[0][0]                    \n",
            "__________________________________________________________________________________________________\n",
            "lstm_2 (LSTM)                   [(None, 50, 300), (N 721200      lstm_1[0][0]                     \n",
            "__________________________________________________________________________________________________\n",
            "lstm_3 (LSTM)                   [(None, None, 300),  481200      embedding_1[0][0]                \n",
            "                                                                 lstm_2[0][1]                     \n",
            "                                                                 lstm_2[0][2]                     \n",
            "__________________________________________________________________________________________________\n",
            "attention_layer (AttentionLayer ((None, None, 300),  180300      lstm_2[0][0]                     \n",
            "                                                                 lstm_3[0][0]                     \n",
            "__________________________________________________________________________________________________\n",
            "concat_layer (Concatenate)      (None, None, 600)    0           lstm_3[0][0]                     \n",
            "                                                                 attention_layer[0][0]            \n",
            "__________________________________________________________________________________________________\n",
            "time_distributed (TimeDistribut (None, None, 1703)   1023503     concat_layer[0][0]               \n",
            "==================================================================================================\n",
            "Total params: 4,648,103\n",
            "Trainable params: 4,648,103\n",
            "Non-trainable params: 0\n",
            "__________________________________________________________________________________________________\n"
          ]
        }
      ]
    },
    {
      "cell_type": "code",
      "metadata": {
        "id": "JA4Nike9ncD5"
      },
      "source": [
        "model.compile(optimizer = 'rmsprop', loss = 'sparse_categorical_crossentropy', experimental_run_tf_function = False)"
      ],
      "execution_count": null,
      "outputs": []
    },
    {
      "cell_type": "code",
      "metadata": {
        "id": "wRAgsc-dn0BN"
      },
      "source": [
        "from tensorflow.keras.callbacks import EarlyStopping"
      ],
      "execution_count": null,
      "outputs": []
    },
    {
      "cell_type": "code",
      "metadata": {
        "id": "xcdg-CGtnohn"
      },
      "source": [
        "es = EarlyStopping(monitor = 'val_loss', mode = 'min', verbose = 1, patience = 2)"
      ],
      "execution_count": null,
      "outputs": []
    },
    {
      "cell_type": "code",
      "metadata": {
        "colab": {
          "base_uri": "https://localhost:8080/"
        },
        "id": "QwaVF0Ftn624",
        "outputId": "9f708c96-2ff4-49e7-9f84-9e9d84e17afa"
      },
      "source": [
        "history = model.fit([X_train, y_train[:, :-1]], y_train.reshape(y_train.shape[0], y_train.shape[1], 1)[:, 1:], epochs = 20, callbacks = [es], batch_size = 128, validation_data=([X_test, y_test[:, :-1]], y_test.reshape(y_test.shape[0], y_test.shape[1], 1)[:, 1:]))"
      ],
      "execution_count": null,
      "outputs": [
        {
          "output_type": "stream",
          "name": "stdout",
          "text": [
            "WARNING:tensorflow:From /usr/local/lib/python3.7/dist-packages/tensorflow_core/python/ops/math_grad.py:1424: where (from tensorflow.python.ops.array_ops) is deprecated and will be removed in a future version.\n",
            "Instructions for updating:\n",
            "Use tf.where in 2.0, which has the same broadcast rule as np.where\n",
            "Train on 30604 samples, validate on 3378 samples\n",
            "Epoch 1/20\n",
            "30604/30604 [==============================] - 1005s 33ms/sample - loss: 2.9643 - val_loss: 2.6615\n",
            "Epoch 2/20\n",
            "30604/30604 [==============================] - 990s 32ms/sample - loss: 2.6377 - val_loss: 2.5638\n",
            "Epoch 3/20\n",
            "30604/30604 [==============================] - 983s 32ms/sample - loss: 2.5130 - val_loss: 2.4331\n",
            "Epoch 4/20\n",
            "30604/30604 [==============================] - 991s 32ms/sample - loss: 2.4023 - val_loss: 2.3568\n",
            "Epoch 5/20\n",
            "30604/30604 [==============================] - 979s 32ms/sample - loss: 2.3172 - val_loss: 2.2890\n",
            "Epoch 6/20\n",
            "30604/30604 [==============================] - 981s 32ms/sample - loss: 2.2539 - val_loss: 2.2479\n",
            "Epoch 7/20\n",
            "30604/30604 [==============================] - 984s 32ms/sample - loss: 2.1992 - val_loss: 2.2164\n",
            "Epoch 8/20\n",
            "30604/30604 [==============================] - 984s 32ms/sample - loss: 2.1571 - val_loss: 2.2029\n",
            "Epoch 9/20\n",
            "30604/30604 [==============================] - 970s 32ms/sample - loss: 2.1169 - val_loss: 2.1787\n",
            "Epoch 10/20\n",
            "30604/30604 [==============================] - 973s 32ms/sample - loss: 2.0816 - val_loss: 2.1572\n",
            "Epoch 11/20\n",
            "30604/30604 [==============================] - 993s 32ms/sample - loss: 2.0495 - val_loss: 2.1505\n",
            "Epoch 12/20\n",
            "30604/30604 [==============================] - 994s 32ms/sample - loss: 2.0188 - val_loss: 2.1459\n",
            "Epoch 13/20\n",
            "30604/30604 [==============================] - 994s 32ms/sample - loss: 1.9923 - val_loss: 2.1307\n",
            "Epoch 14/20\n",
            "30604/30604 [==============================] - 987s 32ms/sample - loss: 1.9664 - val_loss: 2.1381\n",
            "Epoch 15/20\n",
            "30604/30604 [==============================] - 982s 32ms/sample - loss: 1.9406 - val_loss: 2.1320\n",
            "Epoch 00015: early stopping\n"
          ]
        }
      ]
    },
    {
      "cell_type": "code",
      "metadata": {
        "id": "VeVQeKttpMLA",
        "colab": {
          "base_uri": "https://localhost:8080/",
          "height": 266
        },
        "outputId": "ed3c2c3e-a502-4355-e66c-42450a3e4f63"
      },
      "source": [
        "plt.plot(history.history['loss'], label = 'train')\n",
        "plt.plot(history.history['val_loss'], label = 'test')\n",
        "plt.legend()\n",
        "plt.show()"
      ],
      "execution_count": null,
      "outputs": [
        {
          "output_type": "display_data",
          "data": {
            "image/png": "[encoded data removed]",
            "text/plain": [
              "<Figure size 432x288 with 1 Axes>"
            ]
          },
          "metadata": {
            "needs_background": "light"
          }
        }
      ]
    },
    {
      "cell_type": "code",
      "metadata": {
        "id": "hKKwF-OIqbjE"
      },
      "source": [
        "reverse_target_word_index = y_tokenizer.index_word\n",
        "reverse_source_word_index = X_tokenizer.index_word\n",
        "target_word_index = y_tokenizer.word_index"
      ],
      "execution_count": null,
      "outputs": []
    },
    {
      "cell_type": "code",
      "metadata": {
        "id": "sSkwdIV8rBFK"
      },
      "source": [
        "encoder_model = Model(inputs = encoder_inputs, outputs = [encoder_outputs, state_h, state_c])\n",
        "\n",
        "decoder_state_input_h = Input(shape = (latent_dimension,))\n",
        "decoder_state_input_c = Input(shape = (latent_dimension,))\n",
        "decoder_hidden_state_input = Input(shape = (max_review_length, latent_dimension))\n",
        "\n",
        "decoder_embedding2 = decoder_embed_layer(decoder_inputs) \n",
        "decoder_outputs2, state_h2, state_c2 = decoder_lstm(decoder_embedding2, initial_state = [decoder_state_input_h, decoder_state_input_c])\n",
        "\n",
        "attn_out_inference, attn_states_inference = attn_layer([decoder_hidden_state_input, decoder_outputs2])\n",
        "decoder_inference_concat = Concatenate(axis = -1, name = 'concat')([decoder_outputs2, attn_out_inference])\n",
        "\n",
        "decoder_outputs2 = decoder_dense(decoder_inference_concat) \n",
        "\n",
        "decoder_model = Model(\n",
        "    [decoder_inputs] + [decoder_hidden_state_input, decoder_state_input_h, decoder_state_input_c],\n",
        "    [decoder_outputs2] + [state_h2, state_c2])"
      ],
      "execution_count": null,
      "outputs": []
    },
    {
      "cell_type": "code",
      "metadata": {
        "id": "gC-igxcIrOYE"
      },
      "source": [
        "def decode_sequence(input_seq):\n",
        "    e_out, e_h, e_c = encoder_model.predict(input_seq)\n",
        "    \n",
        "    target_seq = np.zeros((1, 1))\n",
        "    target_seq[0, 0] = target_word_index['sumstart']\n",
        "\n",
        "    stop_condition = False\n",
        "    decoded_sentence = ''\n",
        "\n",
        "    while not stop_condition:\n",
        "      \n",
        "        output_tokens, h, c = decoder_model.predict([target_seq] + [e_out, e_h, e_c])\n",
        "\n",
        "        sampled_token_index = np.argmax(output_tokens[0, -1, :])\n",
        "        sampled_token = reverse_target_word_index[sampled_token_index]\n",
        "        \n",
        "        if(sampled_token != 'sumend'):\n",
        "            decoded_sentence += ' ' + sampled_token\n",
        "\n",
        "        if (sampled_token == 'sumend' or len(decoded_sentence.split()) >= (max_summary_length - 1)):\n",
        "            stop_condition = True\n",
        "\n",
        "        target_seq = np.zeros((1, 1))\n",
        "        target_seq[0, 0] = sampled_token_index\n",
        "\n",
        "        e_h, e_c = h, c\n",
        "\n",
        "    return decoded_sentence"
      ],
      "execution_count": null,
      "outputs": []
    },
    {
      "cell_type": "code",
      "metadata": {
        "id": "2epmUt0erclc"
      },
      "source": [
        "def seq2summary(input_seq):\n",
        "    newString = ''\n",
        "    for i in input_seq:\n",
        "        if((i != 0 and i != target_word_index['sumstart']) and i != target_word_index['sumend']):\n",
        "            newString = newString + reverse_target_word_index[i] + ' '\n",
        "    return newString\n",
        "\n",
        "def seq2text(input_seq):\n",
        "    newString = ''\n",
        "    for i in input_seq:\n",
        "        if(i != 0):\n",
        "            newString = newString + reverse_source_word_index[i] + ' '\n",
        "    return newString"
      ],
      "execution_count": null,
      "outputs": []
    },
    {
      "cell_type": "code",
      "metadata": {
        "id": "RcoSYSlurgmU",
        "colab": {
          "base_uri": "https://localhost:8080/"
        },
        "outputId": "b4df444f-123a-43d9-9580-53ab25a6bcb7"
      },
      "source": [
        "for i in range(0, 75):\n",
        "    print(\"Review:\", seq2text(X_train[i]))\n",
        "    print(\"Original summary:\", seq2summary(y_train[i]))\n",
        "    print(\"Predicted summary:\", decode_sequence(X_train[i].reshape(1, max_review_length)))\n",
        "    print(\"\\n\")"
      ],
      "execution_count": null,
      "outputs": [
        {
          "output_type": "stream",
          "name": "stdout",
          "text": [
            "Review: great deal agree best right amount hot tough taste great \n",
            "Original summary: beef sticks \n",
            "Predicted summary:  great\n",
            "\n",
            "\n",
            "Review: great coffee love taste everyone served loved usually combine maui caffinated coffee \n",
            "Original summary: great coffee \n",
            "Predicted summary:  great coffee\n",
            "\n",
            "\n",
            "Review: usually never give bad reviews products bad peanut butter daily love much got mix smoothies far salty use way taste nothing like peanut butter gross \n",
            "Original summary: it tasted like salted \n",
            "Predicted summary:  not bad\n",
            "\n",
            "\n",
            "Review: drops remember ones expecting powdered sugar disappointed \n",
            "Original summary: lemon drops leave sour taste \n",
            "Predicted summary:  not as good as expected\n",
            "\n",
            "\n",
            "Review: absolutely love lollipops last flavor says label choosing suck green apple like biting green apple one best things flavors last good time also good shape one mouth sincerely wish available stores winner \n",
            "Original summary: yummy \n",
            "Predicted summary:  great gluten free pasta\n",
            "\n",
            "\n",
            "Review: tried wonderful maple syrup love thanks hope keep good work ordered another one excellent \n",
            "Original summary: lots of flavor \n",
            "Predicted summary:  best maple syrup\n",
            "\n",
            "\n",
            "Review: one canned juice drinks one exceptional flavor also big fan orange flavored drinks tangerine distinctive nice kind reminded one favorite soft drinks world made real grapefruit juice nice need vitamin life would consider buying \n",
            "Original summary: bubbly tangerine \n",
            "Predicted summary:  sweet\n",
            "\n",
            "\n",
            "Review: need watch sodium really fan salty foods first place almonds perfect half salt would prefer regular salted almonds day idea anyone would want put salt delicious nuts three count ounce bags pop amazon buy available otherwise must buy six pack small cans higher price per ounce \n",
            "Original summary: delicious blue diamond quality half the sodium \n",
            "Predicted summary:  good but not the best\n",
            "\n",
            "\n",
            "Review: garlic good vinegar salt best addicted signed bi monthly shipments like vinegar salt potato chips love \n",
            "Original summary: wow \n",
            "Predicted summary:  great chips\n",
            "\n",
            "\n",
            "Review: dog enthusiastic food enjoys treats light weight easy carry number treats per day must limited \n",
            "Original summary: liver treats \n",
            "Predicted summary:  dog loves it\n",
            "\n",
            "\n",
            "Review: purchased tea bags hope good night sleep first night drank slept great continued drink every night still sleep well find waking middle night find often maybe cleaning bad side effects tastes good alone sugar honey needed recommended family co workers love discovered dr oz hoping continue sleep well \n",
            "Original summary: good night \n",
            "Predicted summary:  great tea\n",
            "\n",
            "\n",
            "Review: thats say tasty healthy decent price \n",
            "Original summary: tasty and good for health \n",
            "Predicted summary:  great\n",
            "\n",
            "\n",
            "Review: much better man made syrups sweeter deeper flavor high fructose corn syrup varieties expecting thick runny problem little go long way also expecting oz look little bigger jug well worth \n",
            "Original summary: super sweet deal \n",
            "Predicted summary:  good but not great\n",
            "\n",
            "\n",
            "Review: served sample flavor coffee think coffee makes whole house smell great taste simply delicious hooked \n",
            "Original summary: simply delicious \n",
            "Predicted summary:  great coffee\n",
            "\n",
            "\n",
            "Review: love using great mixed little vodka creates metallic looking color royal icing fondant royal icing make sure dried hours paint pit one note work well chocolate silver dust covered nicely gold look right could get thick enough look like gold \n",
            "Original summary: wonderful stuff \n",
            "Predicted summary:  great product\n",
            "\n",
            "\n",
            "Review: meaty texture vegetarian product looks like fresh ground beef mix water would recommend product also want try sausage variety \n",
            "Original summary: texture \n",
            "Predicted summary:  good but not great\n",
            "\n",
            "\n",
            "Review: wanted try juice big fan coconut flavoured products given claims splash pineapple expecting light pina colada flavour opening package could smell hint pineapple would say taste pineapple bit stronger coconut water probably mostly tasted coconut milk water would say nothing like expected bad thirst quenching favourite drink terms taste \n",
            "Original summary: not what expected interesting taste \n",
            "Predicted summary:  too much\n",
            "\n",
            "\n",
            "Review: subscribe save customer years amazon recently changed packaging item second order row received case label bubble wrap larger box around received going essentially six boxes cracker crumbs returning order subscription would rather pay higher price box crackers get case crumbs \n",
            "Original summary: product is great amazon packaging is terrible \n",
            "Predicted summary:  not what expected\n",
            "\n",
            "\n",
            "Review: plocky red beans rice tortilla chips really tasty shared bags daughter iraq said umm good good artificial stuff \n",
            "Original summary: unique and tasty tortilla chips \n",
            "Predicted summary:  great chips\n",
            "\n",
            "\n",
            "Review: knows cat time clock maybe count chimes clock knows point every evening starts put room turn electric blanket set timer tv mins reward favorite treats close door happy cat night long \n",
            "Original summary: temptations my cats night time snack \n",
            "Predicted summary:  my cat loves these\n",
            "\n",
            "\n",
            "Review: name flavor sounds fantastic wondered include multi flavor assortment tasted chips terrible parmesan flavor speak somehow messed garlic well avoid also assortment flavor jalapeno disappointed cheddar vinegar salt peppered flavors fantastic \n",
            "Original summary: flavors are great these not so much \n",
            "Predicted summary:  delicious\n",
            "\n",
            "\n",
            "Review: seemed like would good idea dog could get treats tiny extra small way big like ball way better \n",
            "Original summary: did not work out \n",
            "Predicted summary:  not for dogs\n",
            "\n",
            "\n",
            "Review: chicago seen jelly delight since found local kosher deli girlfriend loved em dark chocolate covering rasberry jelly delight happy get via amazon \n",
            "Original summary: candy \n",
            "Predicted summary:  not the best\n",
            "\n",
            "\n",
            "Review: say herbal tea tastes bit grassy like would say try buy bunch people either seem love hate \n",
            "Original summary: not bad \n",
            "Predicted summary:  tea\n",
            "\n",
            "\n",
            "Review: net carbs emerald cocoa roast almonds worried absolutely delicious like flavored nuts got try \n",
            "Original summary: absolutely delicious \n",
            "Predicted summary:  delicious\n",
            "\n",
            "\n",
            "Review: fully agree last reviews altoids ruined started adding food coloring wintergreen altoids horrible mints would buy buying fake sugar fake flavor fake color deal \n",
            "Original summary: disgusting \n",
            "Predicted summary:  not bad\n",
            "\n",
            "\n",
            "Review: giving cat medication little year hate open mouth dropping pill get one treats ready beforehand attention treat instead pill give medication immediately give treat used run hide every time opened pill case least sticks around makes easier \n",
            "Original summary: need help giving your cat try these \n",
            "Predicted summary:  my cat loves these\n",
            "\n",
            "\n",
            "Review: dog relatively picky comes treats loves much help doggy breath maybe time help \n",
            "Original summary: tasty treats \n",
            "Predicted summary:  dog loves it\n",
            "\n",
            "\n",
            "Review: using food cat ever since ut issues vet recommended switch wet food looked food primary ingredients actually meat fish merrick flavors meat fish poultry primary ingredient cat loves feed half mixed water night morning coat amazing noticed huge improvement coat energy level started using cheap dry food \n",
            "Original summary: awesome natural food \n",
            "Predicted summary:  my cat loves it\n",
            "\n",
            "\n",
            "Review: great coffee original packaging assume shipped bulk cups thrown shipping box order pieces counted cups order short pieces contents pieces contacted seller got response update \n",
            "Original summary: great coffee bad customer \n",
            "Predicted summary:  good coffee but\n",
            "\n",
            "\n",
            "Review: pineapple coconut combination refreshing especially like added sugar welcomed change brands \n",
            "Original summary: vita coco \n",
            "Predicted summary:  good\n",
            "\n",
            "\n",
            "Review: bought gift mom absolutely get hide bed \n",
            "Original summary: for me \n",
            "Predicted summary:  great product\n",
            "\n",
            "\n",
            "Review: cat grass also known wheat grass great plant anyone typically type gardening trouble getting seeds sprout grow seeds make great project cat lovers children hardest part caring plants keeping cats keeping devouring completely happened mine least cats still several months later check area kept cat grass tasty plant \n",
            "Original summary: daily serving of for your cat \n",
            "Predicted summary:  my cat loves these\n",
            "\n",
            "\n",
            "Review: white peppercorns arrived promised better quality expected wish would ordered larger bag husband use lot white pepper cook serve meals bet placing another order soon white peppercorns maybe items well thank much wonderful product keeping promise high quality service \n",
            "Original summary: the white peppercorns \n",
            "Predicted summary:  great product\n",
            "\n",
            "\n",
            "Review: first tasted tea daughter brought back package trip pike street market hooked first cup rich tastes like high quality tea expensive worth every penny make two cups one teabag problem love \n",
            "Original summary: orange tea \n",
            "Predicted summary:  best tea ever\n",
            "\n",
            "\n",
            "Review: coffee past really enjoyed however one received weak neither sister law could drink left mother likes weak coffee feels like half full may bad box like said really enjoyed past purchased grocery store \n",
            "Original summary: brown water \n",
            "Predicted summary:  not bad\n",
            "\n",
            "\n",
            "Review: searched oatmeal soupy creamy key oatmeal water boiling add oats love oatmeal best found opinion \n",
            "Original summary: great oatmeal \n",
            "Predicted summary:  great\n",
            "\n",
            "\n",
            "Review: happy found wonderful decaf tea guests tea nice full flavored smooth finish usually use cup twice setting tea remains true delicious price best found anywhere \n",
            "Original summary: mm good tea \n",
            "Predicted summary:  great tea\n",
            "\n",
            "\n",
            "Review: dunno pack went received one lb box biscuits false advertising another iams order another supplier received ordered \n",
            "Original summary: no pack \n",
            "Predicted summary:  not what expected\n",
            "\n",
            "\n",
            "Review: little packet makes whole pan full sweet corn goodness side dish dessert decide easy prepare delicious table \n",
            "Original summary: sweet corn cake \n",
            "Predicted summary:  good\n",
            "\n",
            "\n",
            "Review: tried detox teas weak flavor color impressed purchase \n",
            "Original summary: weak \n",
            "Predicted summary:  great tea\n",
            "\n",
            "\n",
            "Review: stuff awesome milk call green milk like reviewer said probably love hate taste check ingredients straight green tea natural sweeteners nothing weird artificial \n",
            "Original summary: amazing in milk \n",
            "Predicted summary:  great tea\n",
            "\n",
            "\n",
            "Review: opened bag treat week ago part christmas present gave month old miniature schnauzer pet crazy treat would given product five stars puppy loves highly nutritious reduced two stars makes puppy pass smelling gas bother reviewed list ingredients found possible sweet potato root crop known cause \n",
            "Original summary: gas \n",
            "Predicted summary:  not for dogs\n",
            "\n",
            "\n",
            "Review: like flavor coffee addition vanilla hazelnut flavor gives nice touch nasty aftertaste lot flavored coffees \n",
            "Original summary: very nice flavor \n",
            "Predicted summary:  not the best\n",
            "\n",
            "\n",
            "Review: alvita tea tasty pack punch benefits priced well healthy gave taste \n",
            "Original summary: tea \n",
            "Predicted summary:  tea\n",
            "\n",
            "\n",
            "Review: best marinade fried turkey ever made add anything plus shaker mix buy sprinkle top turkey marinade make tender juicy fried turkey loved \n",
            "Original summary: best marinade for fried turkey ever \n",
            "Predicted summary:  best licorice ever\n",
            "\n",
            "\n",
            "Review: like corn pops without sugar want em sweet throw spoonful splenda top go sometimes mix calorie dense breakfast cereals increase volume without increasing waist line also make great snack eat plain basically love product \n",
            "Original summary: great for breakfast or snack \n",
            "Predicted summary:  good but not great\n",
            "\n",
            "\n",
            "Review: dog favorite treats developed vomiting diarrhea vet strongly suggested reconsider treats tied serious health problems asked ones made china said yes said would take chance threw last bag garbage please take chance pup \n",
            "Original summary: vet says no \n",
            "Predicted summary:  my dog loves these\n",
            "\n",
            "\n",
            "Review: usually buy go go brown rice convenience time cook use rice noticeable change pleasing smell taste hybrid rice love high quality rice \n",
            "Original summary: great tasting and \n",
            "Predicted summary:  good jerky\n",
            "\n",
            "\n",
            "Review: tea expensive bought much cheaper vendors product good keep searching find much better price \n",
            "Original summary: this is great tea but too expensive \n",
            "Predicted summary:  great tea\n",
            "\n",
            "\n",
            "Review: product great cooking pork chops boneless bone adds taste well keeps meat moist tender use often recommend friends \n",
            "Original summary: excellent cooking aid \n",
            "Predicted summary:  great product\n",
            "\n",
            "\n",
            "Review: sister taste like much said tasted like clif bar check local grocery store see flavors quaker makes would great take school work quick snack maybe better part complete breakfast bar also warmed microwave seconds may taste like muffin \n",
            "Original summary: quaker always good \n",
            "Predicted summary:  not good\n",
            "\n",
            "\n",
            "Review: love tea drink daily great tea great taste stomach aids digestion \n",
            "Original summary: licorice mint tea \n",
            "Predicted summary:  great tea\n",
            "\n",
            "\n",
            "Review: golden labs big dogs love chews caution please keep eye dogs chewing chews tend soften dogs chew chews often stick back dogs throat stick fingers remove last piece chew would never leave dogs alone eating type rawhide chew \n",
            "Original summary: cet hextra chews \n",
            "Predicted summary:  great treats\n",
            "\n",
            "\n",
            "Review: trying week victor black box style trap success purchased two pack traps worked wonderfully first go around originally put type trap extra things need set little used wire bent accomplish needed without extra purchasing cheaper effective \n",
            "Original summary: worked great \n",
            "Predicted summary:  great product\n",
            "\n",
            "\n",
            "Review: understand priced high get walmart online product great like fact control much flavor get adjusting amount powder use basically product stars cost star \n",
            "Original summary: cost \n",
            "Predicted summary:  my dog loves it\n",
            "\n",
            "\n",
            "Review: love mayo touch black pepper better regular mayo adding sprinkle pepper stuff downright hot much pepper taste mayo mayo flavor lost even use little bit however like hot may fall love strong \n",
            "Original summary: pepper the mayo taste \n",
            "Predicted summary:  great taste\n",
            "\n",
            "\n",
            "Review: make flavored salts gifts crunchy texture salts perfect friends love sound good taste use fingers sprinkle food \n",
            "Original summary: salt \n",
            "Predicted summary:  delicious\n",
            "\n",
            "\n",
            "Review: superb green tea organic decaf bags really filled get lot bang bag came larger boxes \n",
            "Original summary: excellent green tea \n",
            "Predicted summary:  best tea ever\n",
            "\n",
            "\n",
            "Review: like regular oreo cookies could eat entire bag one sitting saw new berry burst ice cream oreos thought would give try cannot believe saying way sweet top fake overpowering berry burst flavor good trying eat couple time throw away really think going able finish bag week unusual bag cookies long \n",
            "Original summary: too sweet and just yucky \n",
            "Predicted summary:  too salty\n",
            "\n",
            "\n",
            "Review: brownies hit every time take event everyone always surprised gluten free bit gooey chocolate icing extremely decadent \n",
            "Original summary: best gluten free anything \n",
            "Predicted summary:  best gluten free bread\n",
            "\n",
            "\n",
            "Review: toy enjoy buster cube treat dispenser much better hard plastic jar tile floors tug jug kept dog entertained long dispensers gave would lie next noise thing made unbearable \n",
            "Original summary: the down \n",
            "Predicted summary:  my dog loves these\n",
            "\n",
            "\n",
            "Review: beverage different beverages starts nice citrus zing finishes little sweet hoping zing continue get full died overall taste sweet orange soda citrus izze similar citrus beverage overall going pick usually want one bad want \n",
            "Original summary: not bad but not enough \n",
            "Predicted summary:  too sweet\n",
            "\n",
            "\n",
            "Review: drawer sturdy holds plenty cups great use counter space even heavy cuisinart cup coffee maker top still slides easily love \n",
            "Original summary: exactly what wanted \n",
            "Predicted summary:  great coffee\n",
            "\n",
            "\n",
            "Review: small salty taste good strong good thing package contains small amount takes little crisps cure salty crunchy craving snack one package entire day course would good snack hungry enough fill less per pack okay deal \n",
            "Original summary: not bad \n",
            "Predicted summary:  not bad\n",
            "\n",
            "\n",
            "Review: almost returned cuisinart single cup brewer could find flavors good chocolate raspberry would buy whole beans gloria jeans found smells wonderful tastes great new fav \n",
            "Original summary: yumm \n",
            "Predicted summary:  not so good\n",
            "\n",
            "\n",
            "Review: needed mother day gift family friends found product based reviews purchased everyone loved taste cookies wanted know purchased great product excellent price order \n",
            "Original summary: great product at excellent price \n",
            "Predicted summary:  great product\n",
            "\n",
            "\n",
            "Review: ordered pepper one sent son afghanistan loved ask much deployed love jerkey bought came lb package told best ever buy jack link must really good like well \n",
            "Original summary: my son loves it \n",
            "Predicted summary:  great product\n",
            "\n",
            "\n",
            "Review: mix want get fat prone good dog food likes long feed good go shipping quick tends pricey matter find \n",
            "Original summary: loves it \n",
            "Predicted summary:  dog loves them\n",
            "\n",
            "\n",
            "Review: normally write reviews reading obviously going sweet brown sugar jerky think tastes perfect though enough sweetness enough jerky taste usually buy jack links jerky wanted try something different glad jerky would buy \n",
            "Original summary: amazing \n",
            "Predicted summary:  great taste\n",
            "\n",
            "\n",
            "Review: product exactly says dog however found used products effective half cost \n",
            "Original summary: it okay \n",
            "Predicted summary:  dog loves it\n",
            "\n",
            "\n",
            "Review: gave gift dad dad christmas year look great got taste loved tasty alcohol real tasting good buy \n",
            "Original summary: great gift and is delicious \n",
            "Predicted summary:  great\n",
            "\n",
            "\n"
          ]
        }
      ]
    }
  ]
}